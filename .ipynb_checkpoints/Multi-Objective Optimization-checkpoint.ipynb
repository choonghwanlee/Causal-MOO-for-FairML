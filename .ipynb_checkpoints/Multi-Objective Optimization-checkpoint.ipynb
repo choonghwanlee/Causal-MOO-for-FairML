{
 "cells": [
  {
   "cell_type": "code",
   "execution_count": 1,
   "id": "22433776",
   "metadata": {},
   "outputs": [],
   "source": [
    "import pandas as pd \n",
    "import numpy as np\n",
    "from scipy.optimize import minimize"
   ]
  },
  {
   "cell_type": "code",
   "execution_count": 2,
   "id": "30bc9c42",
   "metadata": {},
   "outputs": [],
   "source": [
    "# load data\n",
    "compas_scores = pd.read_csv('compas/compas-scores-two-years.csv')"
   ]
  },
  {
   "cell_type": "code",
   "execution_count": 3,
   "id": "0d4f4b71",
   "metadata": {
    "scrolled": false
   },
   "outputs": [
    {
     "data": {
      "text/plain": [
       "Index(['id', 'name', 'first', 'last', 'compas_screening_date', 'sex', 'dob',\n",
       "       'age', 'age_cat', 'race', 'juv_fel_count', 'decile_score',\n",
       "       'juv_misd_count', 'juv_other_count', 'priors_count',\n",
       "       'days_b_screening_arrest', 'c_jail_in', 'c_jail_out', 'c_case_number',\n",
       "       'c_offense_date', 'c_arrest_date', 'c_days_from_compas',\n",
       "       'c_charge_degree', 'c_charge_desc', 'is_recid', 'r_case_number',\n",
       "       'r_charge_degree', 'r_days_from_arrest', 'r_offense_date',\n",
       "       'r_charge_desc', 'r_jail_in', 'r_jail_out', 'violent_recid',\n",
       "       'is_violent_recid', 'vr_case_number', 'vr_charge_degree',\n",
       "       'vr_offense_date', 'vr_charge_desc', 'type_of_assessment',\n",
       "       'decile_score.1', 'score_text', 'screening_date',\n",
       "       'v_type_of_assessment', 'v_decile_score', 'v_score_text',\n",
       "       'v_screening_date', 'in_custody', 'out_custody', 'priors_count.1',\n",
       "       'start', 'end', 'event', 'two_year_recid'],\n",
       "      dtype='object')"
      ]
     },
     "execution_count": 3,
     "metadata": {},
     "output_type": "execute_result"
    }
   ],
   "source": [
    "compas_scores.columns"
   ]
  },
  {
   "cell_type": "code",
   "execution_count": 4,
   "id": "68232e2b",
   "metadata": {
    "scrolled": false
   },
   "outputs": [],
   "source": [
    "# clean null\n",
    "compas_scores = compas_scores.dropna(subset=['race', 'age','juv_fel_count','juv_misd_count','priors_count','two_year_recid','c_charge_degree'])\n",
    "\n"
   ]
  },
  {
   "cell_type": "code",
   "execution_count": 5,
   "id": "6884c085",
   "metadata": {
    "scrolled": false
   },
   "outputs": [
    {
     "data": {
      "text/plain": [
       "F    4666\n",
       "M    2548\n",
       "Name: c_charge_degree, dtype: int64"
      ]
     },
     "execution_count": 5,
     "metadata": {},
     "output_type": "execute_result"
    }
   ],
   "source": [
    "compas_scores[\"c_charge_degree\"].value_counts()"
   ]
  },
  {
   "cell_type": "code",
   "execution_count": 6,
   "id": "6d659176",
   "metadata": {},
   "outputs": [],
   "source": [
    "#extract type of crime\n",
    "compas_scores[\"type\"] = compas_scores[\"c_charge_degree\"].map(lambda x: 1 if x =='F' else 0)\n"
   ]
  },
  {
   "cell_type": "code",
   "execution_count": 7,
   "id": "fa24fd7d",
   "metadata": {},
   "outputs": [],
   "source": [
    "# #simplify race to binary case\n",
    "compas = compas_scores[compas_scores['race'].isin(['African-American','Caucasian'])]\n",
    "# compas_scores['race'] = compas_scores['race'].map(lambda x: \"African-American\" if x == \"African-American\" else \"Other\")\n",
    "\n",
    "\n"
   ]
  },
  {
   "cell_type": "code",
   "execution_count": null,
   "id": "d3450d81",
   "metadata": {},
   "outputs": [],
   "source": [
    "#simplify label\n",
    "compas['score_text'] = compas['score_text'].map(lambda x: 0 if x == \"Low\" else 1)\n",
    "\n"
   ]
  },
  {
   "cell_type": "code",
   "execution_count": 9,
   "id": "cb38c60f",
   "metadata": {},
   "outputs": [],
   "source": [
    "# reset index \n",
    "compas = compas.reset_index().drop(columns=['index','id'])"
   ]
  },
  {
   "cell_type": "code",
   "execution_count": 19,
   "id": "311ff871",
   "metadata": {},
   "outputs": [],
   "source": [
    "def data_parser(y_pred, y_truth, sensitive):\n",
    "    \n",
    "    # test dataset index for African Americans   \n",
    "    protected = sensitive[sensitive=='African-American'].index.intersection(y_truth.index)\n",
    "    # test dataset index for Caucasians\n",
    "    unprotected = sensitive[sensitive=='Caucasian'].index.intersection(y_truth.index)\n",
    "    #actual recividism outcome + model predictions for African Americans\n",
    "    y_truth_protected = y_truth[protected]\n",
    "    y_pred_protected = y_pred[protected]\n",
    "    #actual recividism outcome + model predictions for Caucasians\n",
    "    y_truth_unprotected = y_truth[unprotected]\n",
    "    y_pred_unprotected = y_pred[unprotected]\n",
    "    return y_truth_protected, y_pred_protected, y_truth_unprotected, y_pred_unprotected"
   ]
  },
  {
   "cell_type": "code",
   "execution_count": 22,
   "id": "be2262d6",
   "metadata": {},
   "outputs": [],
   "source": [
    "def ppv_diff(y_pred, y_truth, sensitive):\n",
    "    \n",
    "    #extract relevant data\n",
    "    y_truth_protected, y_pred_protected, y_truth_unprotected, y_pred_unprotected = data_parser(y_pred, y_truth, sensitive)\n",
    "    # index for African Americans predicted to recidivate \n",
    "    p_predicted_true = y_pred_protected[y_pred_protected == 1].index\n",
    "    # portion of African Americans predicted to recidivate who actually recidivated \n",
    "    p_ppv = np.sum(y_truth_protected[p_predicted_true])/len(y_truth_protected[p_predicted_true])\n",
    "    # index for Caucasians predicted to recidivate\n",
    "    up_predicted_value = y_pred_unprotected[y_pred_unprotected == 1].index\n",
    "    # portion of Caucasians predicted to recidivate who actually recidivated\n",
    "    up_ppv = np.sum(y_truth_unprotected[up_predicted_value])/len(y_truth_unprotected[up_predicted_value])\n",
    "    \n",
    "    return abs(p_ppv-up_ppv)"
   ]
  },
  {
   "cell_type": "code",
   "execution_count": 24,
   "id": "806efc80",
   "metadata": {},
   "outputs": [],
   "source": [
    "def eo_diff(y_pred,y_truth,sensitive):\n",
    "    y_truth_protected, y_pred_protected, y_truth_unprotected, y_pred_unprotected = data_parser(y_pred, y_truth, sensitive)\n",
    "    total_eo_diff = 0\n",
    "    # add FNR and FPR\n",
    "    for i in range(0,2):\n",
    "        #index for African Americans who actually didn't/did't recidivated\n",
    "        p_truth_value = y_truth_protected[y_truth_protected == i].index\n",
    "        #portion of African Americans who didn't/did recidivate who were predicted to/not to \n",
    "        p_eo = (y_pred_protected[p_truth_value] == 1-i).sum()/len(y_pred_protected[p_truth_value])\n",
    "        #index for Caucasians who actually didn't/did't recidivated \n",
    "        up_truth_value = y_truth_unprotected[y_truth_unprotected == i].index\n",
    "        #portion of Caucasians who didn't/did recidivated who were predicted to/not to \n",
    "        up_eo = (y_pred_unprotected[up_truth_value] == 1-i).sum()/len(y_pred_unprotected[up_truth_value])\n",
    "        total_eo_diff+=abs(p_eo-up_eo)\n",
    "    return total_eo_diff/2\n",
    "    "
   ]
  },
  {
   "cell_type": "markdown",
   "id": "5fce919b",
   "metadata": {},
   "source": [
    "## Fairness through Unawareness"
   ]
  },
  {
   "cell_type": "code",
   "execution_count": 78,
   "id": "041509e2",
   "metadata": {},
   "outputs": [],
   "source": [
    "# extract dataframes\n",
    "\n",
    "# features \n",
    "features = compas[['juv_fel_count','juv_misd_count','priors_count','type','age']]\n",
    "\n",
    "# sensitive attribute\n",
    "sens = compas['race']\n",
    "\n",
    "#predicted (O)\n",
    "y = compas['two_year_recid']"
   ]
  },
  {
   "cell_type": "code",
   "execution_count": 79,
   "id": "2c4df369",
   "metadata": {},
   "outputs": [],
   "source": [
    "#scale/normalize values \n",
    "\n",
    "from sklearn.preprocessing import StandardScaler \n",
    "scaler = StandardScaler()\n",
    "X_scaled = scaler.fit_transform(features)\n"
   ]
  },
  {
   "cell_type": "code",
   "execution_count": 80,
   "id": "f774983f",
   "metadata": {},
   "outputs": [],
   "source": [
    "from sklearn.model_selection import train_test_split\n",
    "\n",
    "X_train, X_test, y_train, y_test = train_test_split(X_scaled, y, test_size=0.33,random_state=0)\n"
   ]
  },
  {
   "cell_type": "code",
   "execution_count": 99,
   "id": "0047523e",
   "metadata": {},
   "outputs": [],
   "source": [
    "from sklearn.linear_model import LogisticRegression\n",
    "from sklearn.model_selection import train_test_split\n",
    "\n",
    "clf = LogisticRegression(random_state=0,max_iter=1000).fit(X_train, y_train)"
   ]
  },
  {
   "cell_type": "code",
   "execution_count": 100,
   "id": "598e1126",
   "metadata": {},
   "outputs": [],
   "source": [
    "# model predictions \n",
    "y_pred = clf.predict(X_test)"
   ]
  },
  {
   "cell_type": "code",
   "execution_count": 101,
   "id": "a6478c99",
   "metadata": {},
   "outputs": [],
   "source": [
    "# add index \n",
    "y_pred = pd.Series(y_pred,index=y_test.index)"
   ]
  },
  {
   "cell_type": "code",
   "execution_count": 102,
   "id": "fa70d79f",
   "metadata": {
    "scrolled": false
   },
   "outputs": [
    {
     "data": {
      "text/plain": [
       "0.6793103448275862"
      ]
     },
     "execution_count": 102,
     "metadata": {},
     "output_type": "execute_result"
    }
   ],
   "source": [
    "from sklearn.metrics import accuracy_score, f1_score\n",
    "accuracy_score(y_test, y_pred)"
   ]
  },
  {
   "cell_type": "code",
   "execution_count": 103,
   "id": "c324069c",
   "metadata": {
    "scrolled": true
   },
   "outputs": [
    {
     "data": {
      "text/plain": [
       "0.6713981114833993"
      ]
     },
     "execution_count": 103,
     "metadata": {},
     "output_type": "execute_result"
    }
   ],
   "source": [
    "f1_score(y_test, y_pred, average='macro')"
   ]
  },
  {
   "cell_type": "code",
   "execution_count": 104,
   "id": "0160f3f2",
   "metadata": {
    "scrolled": false
   },
   "outputs": [
    {
     "data": {
      "text/plain": [
       "0.0407142307396291"
      ]
     },
     "execution_count": 104,
     "metadata": {},
     "output_type": "execute_result"
    }
   ],
   "source": [
    "ppv_diff(y_pred,y_test,sens)"
   ]
  },
  {
   "cell_type": "code",
   "execution_count": 105,
   "id": "b6a8bb4b",
   "metadata": {
    "scrolled": true
   },
   "outputs": [
    {
     "data": {
      "text/plain": [
       "0.19656976799538398"
      ]
     },
     "execution_count": 105,
     "metadata": {},
     "output_type": "execute_result"
    }
   ],
   "source": [
    "eo_diff(y_pred,y_test,sens)"
   ]
  },
  {
   "cell_type": "markdown",
   "id": "b61b9da8",
   "metadata": {},
   "source": [
    "## Learning Structural Causal Model"
   ]
  },
  {
   "cell_type": "code",
   "execution_count": 188,
   "id": "08a7050f",
   "metadata": {},
   "outputs": [],
   "source": [
    "causal = compas[['juv_fel_count','juv_misd_count','priors_count','type','age','race','two_year_recid']]"
   ]
  },
  {
   "cell_type": "code",
   "execution_count": 192,
   "id": "98b37d44",
   "metadata": {
    "scrolled": false
   },
   "outputs": [
    {
     "name": "stderr",
     "output_type": "stream",
     "text": [
      "/var/folders/t7/ff36cp25227f2f9fl6vklh440000gn/T/ipykernel_83707/4219013451.py:1: SettingWithCopyWarning: \n",
      "A value is trying to be set on a copy of a slice from a DataFrame.\n",
      "Try using .loc[row_indexer,col_indexer] = value instead\n",
      "\n",
      "See the caveats in the documentation: https://pandas.pydata.org/pandas-docs/stable/user_guide/indexing.html#returning-a-view-versus-a-copy\n",
      "  causal['race'] = causal['race'].map(lambda x: 0 if x=='African-American' else 1)\n"
     ]
    }
   ],
   "source": [
    "causal['race'] = causal['race'].map(lambda x: 0 if x=='African-American' else 1)"
   ]
  },
  {
   "cell_type": "code",
   "execution_count": 141,
   "id": "894aa44e",
   "metadata": {},
   "outputs": [],
   "source": [
    "from scipy.stats import multivariate_normal\n",
    "A = np.diag([1,1])"
   ]
  },
  {
   "cell_type": "code",
   "execution_count": 151,
   "id": "0ae6e02f",
   "metadata": {},
   "outputs": [],
   "source": [
    "dist = multivariate_normal(mean=[0, 0], cov=A)\n",
    "latent = dist.rvs(size=len(causal), random_state=0)"
   ]
  },
  {
   "cell_type": "code",
   "execution_count": 156,
   "id": "128a6d4f",
   "metadata": {},
   "outputs": [],
   "source": [
    "UJ = latent[:,0]\n",
    "UD = latent[:,1]"
   ]
  },
  {
   "cell_type": "code",
   "execution_count": 190,
   "id": "5b39e12d",
   "metadata": {
    "scrolled": true
   },
   "outputs": [
    {
     "name": "stderr",
     "output_type": "stream",
     "text": [
      "/var/folders/t7/ff36cp25227f2f9fl6vklh440000gn/T/ipykernel_83707/2265057134.py:1: SettingWithCopyWarning: \n",
      "A value is trying to be set on a copy of a slice from a DataFrame.\n",
      "Try using .loc[row_indexer,col_indexer] = value instead\n",
      "\n",
      "See the caveats in the documentation: https://pandas.pydata.org/pandas-docs/stable/user_guide/indexing.html#returning-a-view-versus-a-copy\n",
      "  causal['UJ'] = UJ\n",
      "/var/folders/t7/ff36cp25227f2f9fl6vklh440000gn/T/ipykernel_83707/2265057134.py:2: SettingWithCopyWarning: \n",
      "A value is trying to be set on a copy of a slice from a DataFrame.\n",
      "Try using .loc[row_indexer,col_indexer] = value instead\n",
      "\n",
      "See the caveats in the documentation: https://pandas.pydata.org/pandas-docs/stable/user_guide/indexing.html#returning-a-view-versus-a-copy\n",
      "  causal['UD'] = UD\n"
     ]
    }
   ],
   "source": [
    "causal['UJ'] = UJ\n",
    "causal['UD'] = UD"
   ]
  },
  {
   "cell_type": "code",
   "execution_count": 51,
   "id": "162875fb",
   "metadata": {},
   "outputs": [],
   "source": [
    "import statsmodels.api as sm\n",
    "from patsy import dmatrices"
   ]
  },
  {
   "cell_type": "code",
   "execution_count": 164,
   "id": "f832635b",
   "metadata": {},
   "outputs": [],
   "source": [
    "expr = \"\"\"priors_count ~ UD  + age + race \"\"\"\n",
    "y_train, X_train = dmatrices(expr, causal, return_type='dataframe')\n",
    "poisson_T = sm.GLM(y_train, X_train, family=sm.families.Poisson()).fit()\n",
    "print(poisson_T.summary())"
   ]
  },
  {
   "cell_type": "code",
   "execution_count": 225,
   "id": "7374d6e1",
   "metadata": {},
   "outputs": [
    {
     "data": {
      "text/plain": [
       "Intercept    0.756624\n",
       "UD          -0.011616\n",
       "age          0.021500\n",
       "race        -0.657343\n",
       "dtype: float64"
      ]
     },
     "execution_count": 225,
     "metadata": {},
     "output_type": "execute_result"
    }
   ],
   "source": [
    "poisson_T.params"
   ]
  },
  {
   "cell_type": "code",
   "execution_count": 172,
   "id": "41fab518",
   "metadata": {},
   "outputs": [],
   "source": [
    "expr = \"\"\"juv_fel_count ~ UJ  + age + race \"\"\"\n",
    "y_train, X_train = dmatrices(expr, causal, return_type='dataframe')\n",
    "poisson_Jf = sm.GLM(y_train, X_train, family=sm.families.Poisson()).fit()\n",
    "print(poisson_Jf.summary())"
   ]
  },
  {
   "cell_type": "code",
   "execution_count": 226,
   "id": "0764a405",
   "metadata": {},
   "outputs": [
    {
     "data": {
      "text/plain": [
       "Intercept   -1.053208\n",
       "UJ           0.093030\n",
       "age         -0.040734\n",
       "race        -1.164887\n",
       "dtype: float64"
      ]
     },
     "execution_count": 226,
     "metadata": {},
     "output_type": "execute_result"
    }
   ],
   "source": [
    "poisson_Jf.params"
   ]
  },
  {
   "cell_type": "code",
   "execution_count": 181,
   "id": "f31227bf",
   "metadata": {},
   "outputs": [],
   "source": [
    "expr = \"\"\"juv_misd_count ~ UJ  + age + race \"\"\"\n",
    "y_train, X_train = dmatrices(expr, causal, return_type='dataframe')\n",
    "poisson_Jm = sm.GLM(y_train, X_train, family=sm.families.Poisson()).fit()\n",
    "print(poisson_Jm.summary())"
   ]
  },
  {
   "cell_type": "code",
   "execution_count": 227,
   "id": "272b5615",
   "metadata": {},
   "outputs": [
    {
     "data": {
      "text/plain": [
       "Intercept    0.148052\n",
       "UJ           0.039344\n",
       "age         -0.072449\n",
       "race        -0.929948\n",
       "dtype: float64"
      ]
     },
     "execution_count": 227,
     "metadata": {},
     "output_type": "execute_result"
    }
   ],
   "source": [
    "poisson_Jm.params"
   ]
  },
  {
   "cell_type": "code",
   "execution_count": 214,
   "id": "fa8e7ef5",
   "metadata": {},
   "outputs": [],
   "source": [
    "T_features = causal[['UD','age','race']]\n",
    "T_y = causal['type'].values"
   ]
  },
  {
   "cell_type": "code",
   "execution_count": 215,
   "id": "5b17403d",
   "metadata": {},
   "outputs": [],
   "source": [
    "clf = LogisticRegression(random_state=0,max_iter=1000).fit(T_features, T_y)"
   ]
  },
  {
   "cell_type": "code",
   "execution_count": 217,
   "id": "e3d85632",
   "metadata": {
    "scrolled": true
   },
   "outputs": [
    {
     "data": {
      "text/plain": [
       "array([[ 0.01098665, -0.01298831, -0.31271112]])"
      ]
     },
     "execution_count": 217,
     "metadata": {},
     "output_type": "execute_result"
    }
   ],
   "source": [
    "clf.coef_"
   ]
  },
  {
   "cell_type": "code",
   "execution_count": 218,
   "id": "7609659b",
   "metadata": {},
   "outputs": [
    {
     "data": {
      "text/plain": [
       "array([1.2245807])"
      ]
     },
     "execution_count": 218,
     "metadata": {},
     "output_type": "execute_result"
    }
   ],
   "source": [
    "clf.intercept_"
   ]
  },
  {
   "cell_type": "markdown",
   "id": "e82be1c3",
   "metadata": {},
   "source": [
    "## Multi-Objective Optimization"
   ]
  },
  {
   "cell_type": "code",
   "execution_count": 59,
   "id": "22019f26",
   "metadata": {},
   "outputs": [],
   "source": [
    "# extract dataframes\n",
    "\n",
    "# features \n",
    "features = compas[['juv_fel_count','juv_misd_count','priors_count','type','age','race']]\n",
    "\n",
    "#predicted (O)\n",
    "y = compas['two_year_recid']"
   ]
  },
  {
   "cell_type": "code",
   "execution_count": 26,
   "id": "e8a2df88",
   "metadata": {},
   "outputs": [],
   "source": [
    "def custom_loss(prob,y_true,sensitive):\n",
    "    y_pred = [1 if p > 0.5 else 0 for p in prob]\n",
    "    y_pred = pd.Series(y_pred,index=y_true.index)\n",
    "    ppv = ppv_diff(y_pred, y_true, sensitive)\n",
    "    eo = eo_diff(y_pred, y_true, sensitive)\n",
    "    y_zero_loss = y_true * np.log(prob + 1e-9)\n",
    "    y_one_loss = (1-y_true) * np.log(1 - prob + 1e-9)\n",
    "    return 0.5*(-np.mean(y_zero_loss + y_one_loss))+0.25*eo+0.25*ppv"
   ]
  },
  {
   "cell_type": "code",
   "execution_count": null,
   "id": "495c7a10",
   "metadata": {},
   "outputs": [],
   "source": [
    "def counterfactual_loss(prob, y_true, sensitive):\n",
    "    y_pred = [1 if p > 0.5 else 0 for p in prob] \n",
    "    y_pred = pd.Series(y_pred,index=y_true.index)\n",
    "    "
   ]
  },
  {
   "cell_type": "code",
   "execution_count": 27,
   "id": "9f7d3a1a",
   "metadata": {},
   "outputs": [],
   "source": [
    "class CustomLogisticClassifier:\n",
    "    def __init__(self, loss_function=custom_loss, params=None, sensitive=None, regularization=0.00012, beta_init=None):\n",
    "        self.regularization = regularization\n",
    "        self.params = params\n",
    "        self.loss_function = loss_function\n",
    "        self.beta_init = beta_init\n",
    "        self.sensitive = sensitive\n",
    "\n",
    "    def predict_prob(self, x):\n",
    "        x_dot_weights = np.matmul(x, self.params[:-1].transpose()) + self.params[-1]\n",
    "        probabilities = self._sigmoid(x_dot_weights)\n",
    "        return probabilities\n",
    "\n",
    "    def predict(self, x):\n",
    "        return [1 if p > 0.5 else 0 for p in self.predict_prob(x)]\n",
    "    \n",
    "    def _sigmoid(self, x):\n",
    "        return np.array([self._sigmoid_function(value) for value in x])\n",
    "\n",
    "    def _sigmoid_function(self,x):\n",
    "        if x >= 0:\n",
    "            z = np.exp(-x)\n",
    "            return 1 / (1 + z)\n",
    "        else:\n",
    "            z = np.exp(x)\n",
    "            return z / (1 + z)\n",
    "\n",
    "    def model_error(self):\n",
    "        error = self.loss_function(\n",
    "            self.predict_prob(self.X), self.y, self.sensitive)\n",
    "        return error\n",
    "    \n",
    "    def l2_regularized_loss(self,params):\n",
    "        self.params = params\n",
    "        return(self.model_error() + \\\n",
    "               sum(self.regularization*np.array(self.params[:-1])**2))\n",
    "    \n",
    "    def fit(self, X, y):\n",
    "        self.X = X\n",
    "        self.y = y\n",
    "        if type(self.beta_init)==type(None):\n",
    "            # set beta_init = 1 for every feature\n",
    "            self.beta_init = np.array([1]*(self.X.shape[1]+1))\n",
    "        else: \n",
    "            # Use provided initial values\n",
    "            pass\n",
    "        \n",
    "        res = minimize(self.l2_regularized_loss, self.beta_init, \n",
    "                       method='BFGS', options={'maxiter': 10000})\n",
    "        self.params = res.x\n",
    "        self.beta_init = self.params\n",
    "    "
   ]
  },
  {
   "cell_type": "code",
   "execution_count": 28,
   "id": "f342065f",
   "metadata": {},
   "outputs": [],
   "source": [
    "l2_custom_clf = CustomLogisticClassifier(\n",
    "    loss_function=custom_loss,\n",
    "    regularization=0,\n",
    "    sensitive = sens,\n",
    ")\n"
   ]
  },
  {
   "cell_type": "code",
   "execution_count": 29,
   "id": "55a8c85f",
   "metadata": {
    "scrolled": false
   },
   "outputs": [],
   "source": [
    "l2_custom_clf.fit(X_train,y_train)"
   ]
  },
  {
   "cell_type": "code",
   "execution_count": 30,
   "id": "f62c0c63",
   "metadata": {
    "scrolled": true
   },
   "outputs": [],
   "source": [
    "y_pred = l2_custom_clf.predict(X_test)"
   ]
  },
  {
   "cell_type": "code",
   "execution_count": 31,
   "id": "7ccacdf0",
   "metadata": {
    "scrolled": false
   },
   "outputs": [
    {
     "data": {
      "text/plain": [
       "0.6576354679802956"
      ]
     },
     "execution_count": 31,
     "metadata": {},
     "output_type": "execute_result"
    }
   ],
   "source": [
    "accuracy_score(y_test, y_pred)"
   ]
  },
  {
   "cell_type": "code",
   "execution_count": 32,
   "id": "3a2a4d84",
   "metadata": {
    "scrolled": true
   },
   "outputs": [
    {
     "data": {
      "text/plain": [
       "0.6369099319937978"
      ]
     },
     "execution_count": 32,
     "metadata": {},
     "output_type": "execute_result"
    }
   ],
   "source": [
    "f1_score(y_test, y_pred, average='macro')"
   ]
  },
  {
   "cell_type": "code",
   "execution_count": 33,
   "id": "9e75922c",
   "metadata": {},
   "outputs": [],
   "source": [
    "y_pred = pd.Series(y_pred,index=y_test.index)"
   ]
  },
  {
   "cell_type": "code",
   "execution_count": 34,
   "id": "d4e829dc",
   "metadata": {
    "scrolled": true
   },
   "outputs": [
    {
     "data": {
      "text/plain": [
       "0.17265955712030315"
      ]
     },
     "execution_count": 34,
     "metadata": {},
     "output_type": "execute_result"
    }
   ],
   "source": [
    "eo_diff(y_pred,y_test,sens)"
   ]
  },
  {
   "cell_type": "code",
   "execution_count": 35,
   "id": "93798a2a",
   "metadata": {
    "scrolled": false
   },
   "outputs": [
    {
     "data": {
      "text/plain": [
       "0.008971516288589498"
      ]
     },
     "execution_count": 35,
     "metadata": {},
     "output_type": "execute_result"
    }
   ],
   "source": [
    "ppv_diff(y_pred,y_test,sens)"
   ]
  }
 ],
 "metadata": {
  "kernelspec": {
   "display_name": "Python 3 (ipykernel)",
   "language": "python",
   "name": "python3"
  },
  "language_info": {
   "codemirror_mode": {
    "name": "ipython",
    "version": 3
   },
   "file_extension": ".py",
   "mimetype": "text/x-python",
   "name": "python",
   "nbconvert_exporter": "python",
   "pygments_lexer": "ipython3",
   "version": "3.9.12"
  }
 },
 "nbformat": 4,
 "nbformat_minor": 5
}
